{
 "cells": [
  {
   "cell_type": "code",
   "execution_count": 1,
   "id": "inner-tucson",
   "metadata": {},
   "outputs": [],
   "source": [
    "import numpy as np\n",
    "%matplotlib inline\n",
    "import matplotlib.image as mpimg\n",
    "import matplotlib.pyplot as plt\n",
    "import tensorflow as tf\n",
    "tf.compat.v1.set_random_seed(2019)"
   ]
  },
  {
   "cell_type": "code",
   "execution_count": 2,
   "id": "suited-baghdad",
   "metadata": {},
   "outputs": [],
   "source": [
    "# importing the keras libraries and \n",
    "from keras.models import Sequential\n",
    "from keras.layers import Conv2D\n",
    "from keras.layers import MaxPooling2D\n",
    "from keras.layers import Flatten\n",
    "from keras.layers import Dense"
   ]
  },
  {
   "cell_type": "code",
   "execution_count": 3,
   "id": "experimental-serve",
   "metadata": {},
   "outputs": [],
   "source": [
    "# initialising the cnn\n",
    "classifier = Sequential()\n",
    "# step 1 convolution\n",
    "classifier.add(Conv2D(32,(3,3), input_shape = (64, 64,3), activation = 'relu'))\n",
    "\n",
    "#adding a second convolutional layer\n",
    "classifier.add(Conv2D(32,(3,3),activation = 'relu'))\n",
    "classifier.add(MaxPooling2D(pool_size = (2,2)))"
   ]
  },
  {
   "cell_type": "code",
   "execution_count": 4,
   "id": "massive-sound",
   "metadata": {},
   "outputs": [],
   "source": [
    "#step 3 flattening\n",
    "classifier.add(Flatten())\n",
    "\n",
    "# step 4 full connection\n",
    "classifier.add(Dense(units =128, activation = 'relu'))\n",
    "classifier.add(Dense(units =1, activation = 'sigmoid'))"
   ]
  },
  {
   "cell_type": "code",
   "execution_count": 5,
   "id": "surprising-departure",
   "metadata": {},
   "outputs": [],
   "source": [
    "# compiling the cnn\n",
    "classifier.compile(optimizer = 'adam', loss = 'binary_crossentropy', metrics = ['accuracy'])"
   ]
  },
  {
   "cell_type": "code",
   "execution_count": 6,
   "id": "following-hygiene",
   "metadata": {},
   "outputs": [
    {
     "name": "stdout",
     "output_type": "stream",
     "text": [
      "Model: \"sequential\"\n",
      "_________________________________________________________________\n",
      "Layer (type)                 Output Shape              Param #   \n",
      "=================================================================\n",
      "conv2d (Conv2D)              (None, 62, 62, 32)        896       \n",
      "_________________________________________________________________\n",
      "conv2d_1 (Conv2D)            (None, 60, 60, 32)        9248      \n",
      "_________________________________________________________________\n",
      "max_pooling2d (MaxPooling2D) (None, 30, 30, 32)        0         \n",
      "_________________________________________________________________\n",
      "flatten (Flatten)            (None, 28800)             0         \n",
      "_________________________________________________________________\n",
      "dense (Dense)                (None, 128)               3686528   \n",
      "_________________________________________________________________\n",
      "dense_1 (Dense)              (None, 1)                 129       \n",
      "=================================================================\n",
      "Total params: 3,696,801\n",
      "Trainable params: 3,696,801\n",
      "Non-trainable params: 0\n",
      "_________________________________________________________________\n"
     ]
    }
   ],
   "source": [
    "classifier.summary()"
   ]
  },
  {
   "cell_type": "code",
   "execution_count": 7,
   "id": "worst-tours",
   "metadata": {},
   "outputs": [],
   "source": [
    "# Callbacks\n",
    "from tensorflow.keras.callbacks import EarlyStopping, ReduceLROnPlateau\n",
    "early_stop = EarlyStopping(patience=10)\n",
    "learning_rate_reduction = ReduceLROnPlateau(monitor='val_acc',\n",
    "                                            factor=0.5,\n",
    "                                            patience=2,\n",
    "                                            verbose=1,\n",
    "                                            min_lr=0.00001)\n",
    "\n",
    "callbacks = [early_stop, learning_rate_reduction]"
   ]
  },
  {
   "cell_type": "code",
   "execution_count": 8,
   "id": "intermediate-devon",
   "metadata": {},
   "outputs": [],
   "source": [
    "# fitting the cnn to the images\n",
    "from keras.preprocessing.image import ImageDataGenerator\n",
    "train_datagen = ImageDataGenerator(rescale = 1./255,\n",
    "                                  shear_range = 0.2,\n",
    "                                  zoom_range = 0.2,\n",
    "                                  horizontal_flip = True)"
   ]
  },
  {
   "cell_type": "code",
   "execution_count": 9,
   "id": "sought-optics",
   "metadata": {},
   "outputs": [
    {
     "name": "stdout",
     "output_type": "stream",
     "text": [
      "Found 8000 images belonging to 1 classes.\n"
     ]
    }
   ],
   "source": [
    "training_set = train_datagen.flow_from_directory(r\"C:\\Users\\DELL\\Desktop\\bharath\\DS\\csv\\training_set\", \n",
    "                                                target_size = (64,64),\n",
    "                                                batch_size = 32,\n",
    "                                                class_mode = 'binary')"
   ]
  },
  {
   "cell_type": "code",
   "execution_count": 10,
   "id": "private-harvest",
   "metadata": {},
   "outputs": [
    {
     "name": "stdout",
     "output_type": "stream",
     "text": [
      "Found 2000 images belonging to 1 classes.\n"
     ]
    }
   ],
   "source": [
    "test_datagen = ImageDataGenerator(rescale = 1./255)\n",
    "test_set = test_datagen.flow_from_directory(r\"C:\\Users\\DELL\\Desktop\\bharath\\DS\\csv\\test_set\", \n",
    "                                                target_size = (64,64),\n",
    "                                                batch_size = 32,\n",
    "                                                class_mode = 'binary')"
   ]
  },
  {
   "cell_type": "markdown",
   "id": "excess-flavor",
   "metadata": {},
   "source": [
    "classifier.fit_generator(training_set,\n",
    "                        steps_per_epoch = 8000,\n",
    "                        epochs = 25,\n",
    "                        validation_data = test_set,\n",
    "                        validation_steps = 1974)"
   ]
  },
  {
   "cell_type": "code",
   "execution_count": 11,
   "id": "dramatic-beverage",
   "metadata": {},
   "outputs": [
    {
     "name": "stderr",
     "output_type": "stream",
     "text": [
      "C:\\Users\\DELL\\Anaconda3\\lib\\site-packages\\tensorflow\\python\\keras\\engine\\training.py:1844: UserWarning: `Model.fit_generator` is deprecated and will be removed in a future version. Please use `Model.fit`, which supports generators.\n",
      "  warnings.warn('`Model.fit_generator` is deprecated and '\n"
     ]
    },
    {
     "name": "stdout",
     "output_type": "stream",
     "text": [
      "Epoch 1/10\n",
      "250/250 [==============================] - 97s 383ms/step - loss: 0.0165 - accuracy: 0.9970 - val_loss: 5.9480e-26 - val_accuracy: 1.0000\n",
      "Epoch 2/10\n",
      "250/250 [==============================] - 85s 340ms/step - loss: 1.5856e-21 - accuracy: 1.0000 - val_loss: 1.3008e-27 - val_accuracy: 1.0000\n",
      "Epoch 3/10\n",
      "250/250 [==============================] - 80s 321ms/step - loss: 4.2978e-23 - accuracy: 1.0000 - val_loss: 1.3471e-27 - val_accuracy: 1.0000\n",
      "Epoch 4/10\n",
      "250/250 [==============================] - 82s 327ms/step - loss: 3.6632e-23 - accuracy: 1.0000 - val_loss: 2.7877e-33 - val_accuracy: 1.0000\n",
      "Epoch 5/10\n",
      "250/250 [==============================] - 81s 324ms/step - loss: 5.9091e-24 - accuracy: 1.0000 - val_loss: 1.4972e-29 - val_accuracy: 1.0000\n",
      "Epoch 6/10\n",
      "250/250 [==============================] - 82s 327ms/step - loss: 1.2415e-23 - accuracy: 1.0000 - val_loss: 1.2271e-23 - val_accuracy: 1.0000\n",
      "Epoch 7/10\n",
      "250/250 [==============================] - 86s 343ms/step - loss: 3.8126e-22 - accuracy: 1.0000 - val_loss: 1.0378e-34 - val_accuracy: 1.0000\n",
      "Epoch 8/10\n",
      "250/250 [==============================] - 101s 403ms/step - loss: 9.7894e-24 - accuracy: 1.0000 - val_loss: 5.7229e-30 - val_accuracy: 1.0000\n",
      "Epoch 9/10\n",
      "250/250 [==============================] - 91s 363ms/step - loss: 3.7476e-24 - accuracy: 1.0000 - val_loss: 5.4887e-26 - val_accuracy: 1.0000\n",
      "Epoch 10/10\n",
      "250/250 [==============================] - 84s 336ms/step - loss: 6.6485e-24 - accuracy: 1.0000 - val_loss: 6.0177e-33 - val_accuracy: 1.0000\n"
     ]
    },
    {
     "data": {
      "text/plain": [
       "<tensorflow.python.keras.callbacks.History at 0x24b5b0d8b48>"
      ]
     },
     "execution_count": 11,
     "metadata": {},
     "output_type": "execute_result"
    }
   ],
   "source": [
    "\n",
    "classifier.fit_generator(training_set,\n",
    "                         steps_per_epoch = 250,\n",
    "                        epochs = 10,\n",
    "                        validation_data = test_set,\n",
    "                        validation_steps = 10)\n"
   ]
  },
  {
   "cell_type": "code",
   "execution_count": 13,
   "id": "focused-break",
   "metadata": {},
   "outputs": [],
   "source": [
    "# Saving the trained model\n",
    "classifier.save('catdog_cnn_model.h5')"
   ]
  },
  {
   "cell_type": "code",
   "execution_count": 14,
   "id": "enclosed-checkout",
   "metadata": {},
   "outputs": [],
   "source": [
    "from keras.models import load_model \n",
    "classifier = load_model('catdog_cnn_model.h5')"
   ]
  },
  {
   "cell_type": "code",
   "execution_count": 16,
   "id": "waiting-purple",
   "metadata": {},
   "outputs": [
    {
     "name": "stdout",
     "output_type": "stream",
     "text": [
      "cat\n"
     ]
    }
   ],
   "source": [
    "import numpy as np\n",
    "from keras.preprocessing import image\n",
    "test_image = image.load_img(r\"C:\\Users\\DELL\\Desktop\\bharath\\DS\\csv\\single_prediction\\cat_or_dog_1.jpg\",target_size = (64,64))\n",
    "test_image =image.img_to_array(test_image) \n",
    "test_image = np.expand_dims(test_image , axis = 0)\n",
    "result = classifier.predict(test_image)\n",
    "training_set.class_indices\n",
    "if result[0][0] == 1:\n",
    "    prediction = 'dog'\n",
    "else: \n",
    "    prediction ='cat'\n",
    "    \n",
    "    \n",
    "print(prediction)\n"
   ]
  },
  {
   "cell_type": "code",
   "execution_count": null,
   "id": "acceptable-tissue",
   "metadata": {},
   "outputs": [],
   "source": []
  }
 ],
 "metadata": {
  "kernelspec": {
   "display_name": "Python 3",
   "language": "python",
   "name": "python3"
  },
  "language_info": {
   "codemirror_mode": {
    "name": "ipython",
    "version": 3
   },
   "file_extension": ".py",
   "mimetype": "text/x-python",
   "name": "python",
   "nbconvert_exporter": "python",
   "pygments_lexer": "ipython3",
   "version": "3.7.10"
  }
 },
 "nbformat": 4,
 "nbformat_minor": 5
}
